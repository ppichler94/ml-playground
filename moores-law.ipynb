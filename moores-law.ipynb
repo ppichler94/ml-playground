{
 "cells": [
  {
   "cell_type": "code",
   "execution_count": 1,
   "id": "88cac901-e6da-41e6-b2f5-593f5a265854",
   "metadata": {
    "tags": []
   },
   "outputs": [],
   "source": [
    "import matplotlib.pyplot as plt\n",
    "import numpy as np\n",
    "import statsmodels.api as sm"
   ]
  },
  {
   "cell_type": "markdown",
   "id": "4b3acf48-678a-49bc-832e-a360d668bf56",
   "metadata": {
    "tags": []
   },
   "source": [
    "model: $transistor\\_count = e^{A_M \\cdot year + B_M}$\n",
    "To calculate $A_M$ and $B_M$, we assume that the number of transistors double every two years starting at 2250 in 1971:\n",
    "$$\\frac{transistor\\_count(year+2)}{transistor\\_count(year)} = 2 = \\frac{e^{B_M} e^{A_M year + 2A_M}}{e^{B_M} e^{A_M year}} = e^{2A_M} \\rightarrow A_M = \\frac{\\log(2)}{2}$$\n",
    "$$\\log(2250) = \\frac{\\log(2)}{2} \\cdot 1971 + B_M \\rightarrow B_M = \\log(2250) - \\frac{\\log(2)}{2} \\cdot 1971$$\n",
    "so our exponential function for Moore's law is $\\log(transistor\\_count) = A_M \\cdot year + B_M$\n",
    "where $A_M = 0.3466$ and $B_M = -675.4$"
   ]
  },
  {
   "cell_type": "code",
   "execution_count": 2,
   "id": "625ef7ce-812b-4271-8f3f-d7dccaef69c1",
   "metadata": {
    "tags": []
   },
   "outputs": [],
   "source": [
    "A_M = np.log(2) / 2\n",
    "B_M = np.log(2250) - A_M * 1971\n",
    "moores_law = lambda year: np.exp(B_M) * np.exp(A_M * year)"
   ]
  },
  {
   "cell_type": "code",
   "execution_count": 3,
   "id": "970f2502-d783-4d5d-8170-19403f51f8e8",
   "metadata": {
    "tags": []
   },
   "outputs": [
    {
     "name": "stdout",
     "output_type": "stream",
     "text": [
      "In 1973, G. Moore expects 2250 transistors on Intels chips\n",
      "This is x2.00 more transistors than 1971\n"
     ]
    }
   ],
   "source": [
    "print(f\"In 1973, G. Moore expects {moores_law(1971):.0f} transistors on Intels chips\")\n",
    "print(f\"This is x{(moores_law(1973) / moores_law(1971)):.2f} more transistors than 1971\")"
   ]
  },
  {
   "cell_type": "code",
   "execution_count": 12,
   "id": "605e92be-2706-46c4-a943-797b9551e9a7",
   "metadata": {
    "tags": []
   },
   "outputs": [
    {
     "name": "stdout",
     "output_type": "stream",
     "text": [
      "year: \t\t [1971. 1972. 1973. 1974. 1974. 1974. 1974. 1975. 1975. 1975.]\n",
      "trans. cnt: \t [2250. 3500. 2500. 3000. 4100. 6000. 8000. 4528. 4000. 5000.]\n"
     ]
    }
   ],
   "source": [
    "data = np.loadtxt(\"transistor_data.csv\", delimiter=\",\", usecols=[1,2], skiprows=1)\n",
    "year = data[:, 1]\n",
    "transistor_count = data[:, 0]\n",
    "print(f\"year: \\t\\t {year[:10]}\")\n",
    "print(f\"trans. cnt: \\t {transistor_count[:10]}\")"
   ]
  },
  {
   "cell_type": "code",
   "execution_count": null,
   "id": "cd1368cf-73af-4d4b-95d9-bcc734fe245c",
   "metadata": {},
   "outputs": [],
   "source": []
  }
 ],
 "metadata": {
  "kernelspec": {
   "display_name": "Python 3",
   "language": "python",
   "name": "python3"
  },
  "language_info": {
   "codemirror_mode": {
    "name": "ipython",
    "version": 3
   },
   "file_extension": ".py",
   "mimetype": "text/x-python",
   "name": "python",
   "nbconvert_exporter": "python",
   "pygments_lexer": "ipython3",
   "version": "3.11.1"
  }
 },
 "nbformat": 4,
 "nbformat_minor": 5
}
